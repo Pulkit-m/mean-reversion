{
 "cells": [
  {
   "cell_type": "code",
   "execution_count": 35,
   "metadata": {},
   "outputs": [],
   "source": [
    "import pandas as pd \n",
    "import matplotlib.pyplot as plt \n",
    "\n",
    "import os \n",
    "from glob import glob \n",
    "from tqdm import tqdm\n",
    "import random\n",
    "import warnings\n",
    "warnings.filterwarnings(\"ignore\")\n",
    "\n",
    "import pandas as pd \n",
    "import matplotlib.pyplot as plt\n",
    "\n",
    "from utils.indicators import movingAverageConverganceDivergance as macd \n",
    "from utils.indicators import relativeStrengthIndex as rsi \n",
    "from utils.indicators import averageTrueRange as atr \n",
    "from utils.indicators import bollingerBands as bbands \n",
    "from utils.indicators import stochasticIndicator as sti\n",
    "\n",
    "from utils.strategies import BollingerBandsStrategy \n",
    "from utils.strategies import MACDStrategy \n",
    "from utils.strategies import BuyAndHoldStrategy \n",
    "from utils.strategies import SimpleMovingAverageStrategy\n",
    "\n",
    "from backtesting import Backtest, Strategy \n",
    "from backtesting.lib import crossover, barssince, SignalStrategy, TrailingStrategy"
   ]
  },
  {
   "cell_type": "code",
   "execution_count": 36,
   "metadata": {},
   "outputs": [],
   "source": [
    "stock_name = None \n",
    "random_seed = None\n",
    "data_folder = \"./data/raw/insample\"\n"
   ]
  },
  {
   "cell_type": "code",
   "execution_count": 39,
   "metadata": {},
   "outputs": [
    {
     "name": "stderr",
     "output_type": "stream",
     "text": [
      "  0%|          | 0/500 [00:00<?, ?it/s]"
     ]
    },
    {
     "data": {
      "application/vnd.jupyter.widget-view+json": {
       "model_id": "31e828b9e7f44e68980d58ddc8e31c17",
       "version_major": 2,
       "version_minor": 0
      },
      "text/plain": [
       "  0%|          | 0/13 [00:00<?, ?it/s]"
      ]
     },
     "metadata": {},
     "output_type": "display_data"
    },
    {
     "data": {
      "application/vnd.jupyter.widget-view+json": {
       "model_id": "417f5635bbfa49bba553b82cdbe524d3",
       "version_major": 2,
       "version_minor": 0
      },
      "text/plain": [
       "  0%|          | 0/13 [00:00<?, ?it/s]"
      ]
     },
     "metadata": {},
     "output_type": "display_data"
    },
    {
     "name": "stderr",
     "output_type": "stream",
     "text": [
      "  0%|          | 1/500 [00:13<1:55:49, 13.93s/it]"
     ]
    },
    {
     "data": {
      "application/vnd.jupyter.widget-view+json": {
       "model_id": "dd991eafdaf8481dbc012b771584e4f4",
       "version_major": 2,
       "version_minor": 0
      },
      "text/plain": [
       "  0%|          | 0/13 [00:00<?, ?it/s]"
      ]
     },
     "metadata": {},
     "output_type": "display_data"
    },
    {
     "data": {
      "application/vnd.jupyter.widget-view+json": {
       "model_id": "4954bd6de4a44563ba2018c68dc42b11",
       "version_major": 2,
       "version_minor": 0
      },
      "text/plain": [
       "  0%|          | 0/13 [00:00<?, ?it/s]"
      ]
     },
     "metadata": {},
     "output_type": "display_data"
    },
    {
     "name": "stderr",
     "output_type": "stream",
     "text": [
      "  0%|          | 2/500 [00:28<1:58:36, 14.29s/it]"
     ]
    },
    {
     "data": {
      "application/vnd.jupyter.widget-view+json": {
       "model_id": "8489c4afb7524e8bb97deb91005dd7e2",
       "version_major": 2,
       "version_minor": 0
      },
      "text/plain": [
       "  0%|          | 0/13 [00:00<?, ?it/s]"
      ]
     },
     "metadata": {},
     "output_type": "display_data"
    },
    {
     "data": {
      "application/vnd.jupyter.widget-view+json": {
       "model_id": "2044af10848147dd9faeaae84dc4f1cc",
       "version_major": 2,
       "version_minor": 0
      },
      "text/plain": [
       "  0%|          | 0/13 [00:00<?, ?it/s]"
      ]
     },
     "metadata": {},
     "output_type": "display_data"
    },
    {
     "name": "stderr",
     "output_type": "stream",
     "text": [
      "  1%|          | 3/500 [00:42<1:56:53, 14.11s/it]"
     ]
    },
    {
     "data": {
      "application/vnd.jupyter.widget-view+json": {
       "model_id": "cadfb9e7a42a4f6d9a90b89ff33343f9",
       "version_major": 2,
       "version_minor": 0
      },
      "text/plain": [
       "  0%|          | 0/13 [00:00<?, ?it/s]"
      ]
     },
     "metadata": {},
     "output_type": "display_data"
    },
    {
     "data": {
      "application/vnd.jupyter.widget-view+json": {
       "model_id": "d802512a762a4f9fba57a0e6fd5cb712",
       "version_major": 2,
       "version_minor": 0
      },
      "text/plain": [
       "  0%|          | 0/13 [00:00<?, ?it/s]"
      ]
     },
     "metadata": {},
     "output_type": "display_data"
    },
    {
     "name": "stderr",
     "output_type": "stream",
     "text": [
      "  1%|          | 4/500 [00:56<1:56:09, 14.05s/it]"
     ]
    },
    {
     "data": {
      "application/vnd.jupyter.widget-view+json": {
       "model_id": "8d931ee379594be4be77978eafbdae95",
       "version_major": 2,
       "version_minor": 0
      },
      "text/plain": [
       "  0%|          | 0/13 [00:00<?, ?it/s]"
      ]
     },
     "metadata": {},
     "output_type": "display_data"
    },
    {
     "data": {
      "application/vnd.jupyter.widget-view+json": {
       "model_id": "5cf975bce72c45b199b393dc7a5a132b",
       "version_major": 2,
       "version_minor": 0
      },
      "text/plain": [
       "  0%|          | 0/13 [00:00<?, ?it/s]"
      ]
     },
     "metadata": {},
     "output_type": "display_data"
    },
    {
     "name": "stderr",
     "output_type": "stream",
     "text": [
      "  1%|          | 5/500 [01:10<1:55:41, 14.02s/it]"
     ]
    },
    {
     "data": {
      "application/vnd.jupyter.widget-view+json": {
       "model_id": "100a9a0aaeb5434b871dff016137c921",
       "version_major": 2,
       "version_minor": 0
      },
      "text/plain": [
       "  0%|          | 0/13 [00:00<?, ?it/s]"
      ]
     },
     "metadata": {},
     "output_type": "display_data"
    },
    {
     "data": {
      "application/vnd.jupyter.widget-view+json": {
       "model_id": "0f45b2aacdf947f3ad9799aa793de428",
       "version_major": 2,
       "version_minor": 0
      },
      "text/plain": [
       "  0%|          | 0/13 [00:00<?, ?it/s]"
      ]
     },
     "metadata": {},
     "output_type": "display_data"
    },
    {
     "name": "stderr",
     "output_type": "stream",
     "text": [
      "  1%|          | 6/500 [01:24<1:56:58, 14.21s/it]"
     ]
    },
    {
     "data": {
      "application/vnd.jupyter.widget-view+json": {
       "model_id": "e7e90daf29c544f7af3ab329ce84c05b",
       "version_major": 2,
       "version_minor": 0
      },
      "text/plain": [
       "  0%|          | 0/13 [00:00<?, ?it/s]"
      ]
     },
     "metadata": {},
     "output_type": "display_data"
    },
    {
     "data": {
      "application/vnd.jupyter.widget-view+json": {
       "model_id": "13b4c6dc6ffe49b99b209aa1e56d7b0e",
       "version_major": 2,
       "version_minor": 0
      },
      "text/plain": [
       "  0%|          | 0/13 [00:00<?, ?it/s]"
      ]
     },
     "metadata": {},
     "output_type": "display_data"
    },
    {
     "name": "stderr",
     "output_type": "stream",
     "text": [
      "  1%|▏         | 7/500 [01:39<1:57:59, 14.36s/it]"
     ]
    },
    {
     "data": {
      "application/vnd.jupyter.widget-view+json": {
       "model_id": "1a650c3f09d3471a973e100d4c43c71c",
       "version_major": 2,
       "version_minor": 0
      },
      "text/plain": [
       "  0%|          | 0/13 [00:00<?, ?it/s]"
      ]
     },
     "metadata": {},
     "output_type": "display_data"
    },
    {
     "data": {
      "application/vnd.jupyter.widget-view+json": {
       "model_id": "20def251c04e433fa7d62c50da72c50c",
       "version_major": 2,
       "version_minor": 0
      },
      "text/plain": [
       "  0%|          | 0/13 [00:00<?, ?it/s]"
      ]
     },
     "metadata": {},
     "output_type": "display_data"
    },
    {
     "name": "stderr",
     "output_type": "stream",
     "text": [
      "  2%|▏         | 8/500 [01:54<1:58:13, 14.42s/it]"
     ]
    },
    {
     "data": {
      "application/vnd.jupyter.widget-view+json": {
       "model_id": "46052aa13d624bad80d7f4f5f76cf89d",
       "version_major": 2,
       "version_minor": 0
      },
      "text/plain": [
       "  0%|          | 0/13 [00:00<?, ?it/s]"
      ]
     },
     "metadata": {},
     "output_type": "display_data"
    },
    {
     "data": {
      "application/vnd.jupyter.widget-view+json": {
       "model_id": "ddb831dacd714f4d893e3d05ae249f73",
       "version_major": 2,
       "version_minor": 0
      },
      "text/plain": [
       "  0%|          | 0/13 [00:00<?, ?it/s]"
      ]
     },
     "metadata": {},
     "output_type": "display_data"
    },
    {
     "name": "stderr",
     "output_type": "stream",
     "text": [
      "  2%|▏         | 9/500 [02:08<1:57:02, 14.30s/it]"
     ]
    },
    {
     "data": {
      "application/vnd.jupyter.widget-view+json": {
       "model_id": "c42aedb33b0044978d948997d6d28b09",
       "version_major": 2,
       "version_minor": 0
      },
      "text/plain": [
       "  0%|          | 0/13 [00:00<?, ?it/s]"
      ]
     },
     "metadata": {},
     "output_type": "display_data"
    },
    {
     "data": {
      "application/vnd.jupyter.widget-view+json": {
       "model_id": "54d851c225cb46188fdf61511684a957",
       "version_major": 2,
       "version_minor": 0
      },
      "text/plain": [
       "  0%|          | 0/13 [00:00<?, ?it/s]"
      ]
     },
     "metadata": {},
     "output_type": "display_data"
    },
    {
     "name": "stderr",
     "output_type": "stream",
     "text": [
      "  2%|▏         | 10/500 [02:22<1:56:11, 14.23s/it]"
     ]
    },
    {
     "data": {
      "application/vnd.jupyter.widget-view+json": {
       "model_id": "ae6d54c9234749379c3b3462b4bdaedd",
       "version_major": 2,
       "version_minor": 0
      },
      "text/plain": [
       "  0%|          | 0/13 [00:00<?, ?it/s]"
      ]
     },
     "metadata": {},
     "output_type": "display_data"
    },
    {
     "data": {
      "application/vnd.jupyter.widget-view+json": {
       "model_id": "0e589c29154e4dde845fd47399460b22",
       "version_major": 2,
       "version_minor": 0
      },
      "text/plain": [
       "  0%|          | 0/13 [00:00<?, ?it/s]"
      ]
     },
     "metadata": {},
     "output_type": "display_data"
    },
    {
     "name": "stderr",
     "output_type": "stream",
     "text": [
      "  2%|▏         | 11/500 [02:36<1:57:19, 14.40s/it]"
     ]
    },
    {
     "data": {
      "application/vnd.jupyter.widget-view+json": {
       "model_id": "68c32f7d2755401cb9da331da2c64132",
       "version_major": 2,
       "version_minor": 0
      },
      "text/plain": [
       "  0%|          | 0/13 [00:00<?, ?it/s]"
      ]
     },
     "metadata": {},
     "output_type": "display_data"
    },
    {
     "data": {
      "application/vnd.jupyter.widget-view+json": {
       "model_id": "318e961ea688472c9c0a195fbed3ae9f",
       "version_major": 2,
       "version_minor": 0
      },
      "text/plain": [
       "  0%|          | 0/13 [00:00<?, ?it/s]"
      ]
     },
     "metadata": {},
     "output_type": "display_data"
    }
   ],
   "source": [
    "# complete Insample Test\n",
    "stock_name =None\n",
    "stock_names = [] \n",
    "if stock_name is not None: \n",
    "    stock_names.append(f'{data_folder}/history_stock_{stock_name}.csv') \n",
    "else: \n",
    "    stock_names = glob(f'{data_folder}/*') \n",
    "\n",
    "all_trades = None\n",
    "profit_buy_and_hold = 0 \n",
    "profit_strategy = 0 \n",
    "\n",
    "opt_params = {\n",
    "    \"ticker\": [],\n",
    "    \"bb_window\" : [] ,\n",
    "    \"rsi_window\" : [],\n",
    "    \"rsi_smooth_window\" : [],\n",
    "    \"rsi_upper_thres\" : [] ,\n",
    "    \"rsi_lower_thres\" : [] , \n",
    "    \"macd_fast_ma_length\" : [], \n",
    "    \"macd_slow_ma_length\" : [], \n",
    "    \"macd_signal_ma_length\": []\n",
    "}\n",
    "\n",
    "\n",
    "if not os.path.exists(\"./results/plots/optim\"): \n",
    "    os.makedirs(\"./results/plots/optim\", exist_ok=True) \n",
    "\n",
    "for stock_name in tqdm(stock_names): \n",
    "    stock_df = pd.read_csv(stock_name, index_col=False)\n",
    "\n",
    "    bt = Backtest(stock_df, BuyAndHoldStrategy, cash=10_000) \n",
    "    stats = bt.run()\n",
    "    profit_buy_and_hold += stats['Equity Final [$]'] - 10000 \n",
    "\n",
    "    bt = Backtest(stock_df, BollingerBandsStrategy, cash = 10_000) \n",
    "    stats_bb = bt.run() \n",
    "    stats_bb, heatmap_bb = bt.optimize(\n",
    "        bb_window = [14,21,30] ,\n",
    "        rsi_window = [6,14,18],\n",
    "        rsi_smooth_window = [3,5],\n",
    "        rsi_upper_thres = [70,75,80] ,\n",
    "        rsi_lower_thres = [20,25,30] ,\n",
    "        constraint = lambda p: p.rsi_window >= 2*p.rsi_smooth_window,\n",
    "        return_heatmap= True, \n",
    "        random_state=0, \n",
    "        maximize='SQN'\n",
    "    )\n",
    "    params = list(heatmap_bb.sort_values().iloc[-1:].index.values)[0] \n",
    "    opt_params['ticker'].append(stock_name.split('\\\\')[-1].split('.')[0].split('_')[-1])\n",
    "    opt_params['bb_window'].append(params[0])\n",
    "    opt_params['rsi_window'].append(params[1])\n",
    "    opt_params['rsi_smooth_window'].append(params[2])\n",
    "    opt_params['rsi_upper_thres'].append(params[3])\n",
    "    opt_params['rsi_lower_thres'].append(params[4])\n",
    "\n",
    "\n",
    "    bt = Backtest(stock_df, MACDStrategy, cash=10000) \n",
    "    stats_macd = bt.run() \n",
    "    stats_macd, heatmap_macd = bt.optimize(macd_fast_ma_length = list(range(12,30,2)), \n",
    "        macd_slow_ma_length = list(range(26,50,2)),\n",
    "        macd_signal_ma_length = list(range(9,21,2)), \n",
    "        constraint = lambda p: p.macd_fast_ma_length*2<p.macd_slow_ma_length and p.macd_fast_ma_length > p.macd_signal_ma_length, \n",
    "        return_heatmap= True, \n",
    "        random_state=0, \n",
    "        maximize='SQN'\n",
    "    )\n",
    "    params = list(heatmap_macd.sort_values().iloc[-1:].index.values)[0] \n",
    "    opt_params['macd_fast_ma_length'].append(params[0])\n",
    "    opt_params['macd_slow_ma_length'].append(params[1])\n",
    "    opt_params['macd_signal_ma_length'].append(params[2])\n",
    "\n",
    "\n",
    "df = pd.DataFrame(opt_params)\n",
    "df.to_csv(\"./data/opt_params.csv\", index = False)\n"
   ]
  },
  {
   "cell_type": "code",
   "execution_count": null,
   "metadata": {},
   "outputs": [],
   "source": []
  }
 ],
 "metadata": {
  "kernelspec": {
   "display_name": "venv",
   "language": "python",
   "name": "python3"
  },
  "language_info": {
   "codemirror_mode": {
    "name": "ipython",
    "version": 3
   },
   "file_extension": ".py",
   "mimetype": "text/x-python",
   "name": "python",
   "nbconvert_exporter": "python",
   "pygments_lexer": "ipython3",
   "version": "3.11.4"
  }
 },
 "nbformat": 4,
 "nbformat_minor": 2
}
